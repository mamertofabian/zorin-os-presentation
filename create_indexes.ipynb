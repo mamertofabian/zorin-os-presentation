{
 "cells": [
  {
   "cell_type": "code",
   "execution_count": 32,
   "outputs": [],
   "source": [
    "from main import init_env_vars\n",
    "init_env_vars()"
   ],
   "metadata": {
    "collapsed": false,
    "ExecuteTime": {
     "end_time": "2023-06-06T06:19:13.069694693Z",
     "start_time": "2023-06-06T06:19:13.022644990Z"
    }
   }
  },
  {
   "cell_type": "code",
   "execution_count": 33,
   "outputs": [],
   "source": [
    "from langchain.embeddings.openai import OpenAIEmbeddings\n",
    "from langchain.text_splitter import CharacterTextSplitter\n",
    "from langchain.vectorstores import FAISS\n",
    "from langchain.document_loaders import UnstructuredURLLoader\n",
    "import tiktoken\n",
    "from time import perf_counter\n",
    "from langchain.document_loaders import DirectoryLoader\n",
    "\n",
    "from main import estimate_token_cost\n",
    "from langchain.text_splitter import RecursiveCharacterTextSplitter"
   ],
   "metadata": {
    "collapsed": false,
    "ExecuteTime": {
     "end_time": "2023-06-06T06:19:13.933324760Z",
     "start_time": "2023-06-06T06:19:13.889936621Z"
    }
   }
  },
  {
   "cell_type": "code",
   "execution_count": 3,
   "outputs": [],
   "source": [
    "#%pip install tqdm"
   ],
   "metadata": {
    "collapsed": false,
    "ExecuteTime": {
     "end_time": "2023-06-06T05:50:14.962088182Z",
     "start_time": "2023-06-06T05:50:14.960528386Z"
    }
   }
  },
  {
   "cell_type": "code",
   "execution_count": 38,
   "outputs": [],
   "source": [
    "def create_index_docs(loaded_docs, context, batch_num):\n",
    "    print(f'Creating index db for batch: {batch_num}')\n",
    "    print(f\"Loading {len(loaded_docs)} documents...\")\n",
    "\n",
    "    text_splitter = RecursiveCharacterTextSplitter(chunk_size=1000, chunk_overlap=0)\n",
    "    docs = text_splitter.split_documents(loaded_docs)\n",
    "\n",
    "    word_count, token_count, est_cost = estimate_token_cost(docs)\n",
    "    print(f\"Total word count: {word_count}\")\n",
    "    print(f\"Total token count: {token_count}\")\n",
    "    print(f\"Estimated cost: {est_cost}\\n\")\n",
    "\n",
    "    start_time = perf_counter()\n",
    "    embeddings = OpenAIEmbeddings()\n",
    "    db = FAISS.from_documents(docs, embeddings)\n",
    "    print(f\"Creating index took {perf_counter() - start_time:.2f} seconds\")\n",
    "\n",
    "    db.save_local(f\"temp_index/{context}/batches/{context}_{batch_num}\")\n",
    "    print(f'Done creating index db for batch: {batch_num}\\n')"
   ],
   "metadata": {
    "collapsed": false,
    "ExecuteTime": {
     "end_time": "2023-06-06T06:21:38.358354605Z",
     "start_time": "2023-06-06T06:21:38.354853454Z"
    }
   }
  },
  {
   "cell_type": "code",
   "execution_count": 39,
   "outputs": [],
   "source": [
    "def merge_indexes(context, documents, batch_size):\n",
    "    # merge indexes for main context\n",
    "    from langchain.vectorstores import FAISS\n",
    "    embeddings = OpenAIEmbeddings()\n",
    "\n",
    "    print(f'Loading {context } index db for batch: 0')\n",
    "    db = FAISS.load_local(f'temp_index/{context}/batches/{context}_0', embeddings)\n",
    "    for i in range(batch_size, len(documents), batch_size):\n",
    "        print(f'Loading {context} index db for batch: {i}')\n",
    "        FAISS.merge_from(db, FAISS.load_local(f'temp_index/{context}/batches/{context}_{i}', embeddings))\n",
    "    db.save_local(f'temp_index/{context}/merged')"
   ],
   "metadata": {
    "collapsed": false,
    "ExecuteTime": {
     "end_time": "2023-06-06T06:21:40.804813497Z",
     "start_time": "2023-06-06T06:21:40.800541909Z"
    }
   }
  },
  {
   "cell_type": "code",
   "execution_count": 40,
   "outputs": [],
   "source": [
    "def load_and_index_site(directory, site_name, batch_size):\n",
    "    loader = DirectoryLoader(directory, glob='**/*.html', show_progress=True)\n",
    "    documents = loader.load()\n",
    "    for i in range(0, len(documents), batch_size):\n",
    "        create_index_docs(documents[i:i+batch_size], site_name, i)\n",
    "    merge_indexes(site_name, documents, batch_size)"
   ],
   "metadata": {
    "collapsed": false,
    "ExecuteTime": {
     "end_time": "2023-06-06T06:21:42.221196751Z",
     "start_time": "2023-06-06T06:21:42.217805464Z"
    }
   }
  },
  {
   "cell_type": "code",
   "execution_count": 42,
   "outputs": [
    {
     "name": "stderr",
     "output_type": "stream",
     "text": [
      "100%|██████████| 67/67 [00:00<00:00, 103.55it/s]\n"
     ]
    },
    {
     "name": "stdout",
     "output_type": "stream",
     "text": [
      "Creating index db for batch: 0\n",
      "Loading 3 documents...\n",
      "Total word count: 1271\n",
      "Total token count: 1735\n",
      "Estimated cost: 0.0006940000000000001\n",
      "\n",
      "Creating index took 0.72 seconds\n",
      "Done creating index db for batch: 0\n",
      "\n",
      "Creating index db for batch: 3\n",
      "Loading 3 documents...\n",
      "Total word count: 1484\n",
      "Total token count: 2169\n",
      "Estimated cost: 0.0008676000000000001\n",
      "\n",
      "Creating index took 1.17 seconds\n",
      "Done creating index db for batch: 3\n",
      "\n",
      "Creating index db for batch: 6\n",
      "Loading 3 documents...\n",
      "Total word count: 1130\n",
      "Total token count: 1495\n",
      "Estimated cost: 0.000598\n",
      "\n",
      "Creating index took 1.03 seconds\n",
      "Done creating index db for batch: 6\n",
      "\n",
      "Creating index db for batch: 9\n",
      "Loading 3 documents...\n",
      "Total word count: 592\n",
      "Total token count: 887\n",
      "Estimated cost: 0.0003548\n",
      "\n",
      "Creating index took 0.54 seconds\n",
      "Done creating index db for batch: 9\n",
      "\n",
      "Creating index db for batch: 12\n",
      "Loading 3 documents...\n",
      "Total word count: 1095\n",
      "Total token count: 1432\n",
      "Estimated cost: 0.0005727999999999999\n",
      "\n",
      "Creating index took 0.95 seconds\n",
      "Done creating index db for batch: 12\n",
      "\n",
      "Creating index db for batch: 15\n",
      "Loading 3 documents...\n",
      "Total word count: 803\n",
      "Total token count: 1056\n",
      "Estimated cost: 0.0004224\n",
      "\n",
      "Creating index took 0.65 seconds\n",
      "Done creating index db for batch: 15\n",
      "\n",
      "Creating index db for batch: 18\n",
      "Loading 3 documents...\n",
      "Total word count: 318\n",
      "Total token count: 400\n",
      "Estimated cost: 0.00016\n",
      "\n",
      "Creating index took 0.55 seconds\n",
      "Done creating index db for batch: 18\n",
      "\n",
      "Creating index db for batch: 21\n",
      "Loading 3 documents...\n",
      "Total word count: 555\n",
      "Total token count: 700\n",
      "Estimated cost: 0.00028000000000000003\n",
      "\n",
      "Creating index took 0.96 seconds\n",
      "Done creating index db for batch: 21\n",
      "\n",
      "Creating index db for batch: 24\n",
      "Loading 3 documents...\n",
      "Total word count: 427\n",
      "Total token count: 559\n",
      "Estimated cost: 0.00022360000000000001\n",
      "\n",
      "Creating index took 0.52 seconds\n",
      "Done creating index db for batch: 24\n",
      "\n",
      "Creating index db for batch: 27\n",
      "Loading 3 documents...\n",
      "Total word count: 877\n",
      "Total token count: 1095\n",
      "Estimated cost: 0.000438\n",
      "\n",
      "Creating index took 0.84 seconds\n",
      "Done creating index db for batch: 27\n",
      "\n",
      "Creating index db for batch: 30\n",
      "Loading 3 documents...\n",
      "Total word count: 1421\n",
      "Total token count: 1832\n",
      "Estimated cost: 0.0007328\n",
      "\n",
      "Creating index took 0.85 seconds\n",
      "Done creating index db for batch: 30\n",
      "\n",
      "Creating index db for batch: 33\n",
      "Loading 3 documents...\n",
      "Total word count: 1690\n",
      "Total token count: 2177\n",
      "Estimated cost: 0.0008708\n",
      "\n",
      "Creating index took 1.11 seconds\n",
      "Done creating index db for batch: 33\n",
      "\n",
      "Creating index db for batch: 36\n",
      "Loading 3 documents...\n",
      "Total word count: 2280\n",
      "Total token count: 2900\n",
      "Estimated cost: 0.0011600000000000002\n",
      "\n",
      "Creating index took 0.86 seconds\n",
      "Done creating index db for batch: 36\n",
      "\n",
      "Creating index db for batch: 39\n",
      "Loading 3 documents...\n",
      "Total word count: 2918\n",
      "Total token count: 3781\n",
      "Estimated cost: 0.0015124\n",
      "\n",
      "Creating index took 1.10 seconds\n",
      "Done creating index db for batch: 39\n",
      "\n",
      "Creating index db for batch: 42\n",
      "Loading 3 documents...\n",
      "Total word count: 1559\n",
      "Total token count: 2054\n",
      "Estimated cost: 0.0008216\n",
      "\n",
      "Creating index took 1.18 seconds\n",
      "Done creating index db for batch: 42\n",
      "\n",
      "Creating index db for batch: 45\n",
      "Loading 3 documents...\n",
      "Total word count: 1904\n",
      "Total token count: 2632\n",
      "Estimated cost: 0.0010528\n",
      "\n",
      "Creating index took 0.99 seconds\n",
      "Done creating index db for batch: 45\n",
      "\n",
      "Creating index db for batch: 48\n",
      "Loading 3 documents...\n",
      "Total word count: 1332\n",
      "Total token count: 1741\n",
      "Estimated cost: 0.0006964\n",
      "\n",
      "Creating index took 1.28 seconds\n",
      "Done creating index db for batch: 48\n",
      "\n",
      "Creating index db for batch: 51\n",
      "Loading 3 documents...\n",
      "Total word count: 2428\n",
      "Total token count: 3302\n",
      "Estimated cost: 0.0013208\n",
      "\n",
      "Creating index took 1.08 seconds\n",
      "Done creating index db for batch: 51\n",
      "\n",
      "Creating index db for batch: 54\n",
      "Loading 3 documents...\n",
      "Total word count: 1910\n",
      "Total token count: 2441\n",
      "Estimated cost: 0.0009764000000000001\n",
      "\n",
      "Creating index took 0.55 seconds\n",
      "Done creating index db for batch: 54\n",
      "\n",
      "Creating index db for batch: 57\n",
      "Loading 3 documents...\n",
      "Total word count: 699\n",
      "Total token count: 978\n",
      "Estimated cost: 0.00039119999999999997\n",
      "\n",
      "Creating index took 0.90 seconds\n",
      "Done creating index db for batch: 57\n",
      "\n",
      "Creating index db for batch: 60\n",
      "Loading 3 documents...\n",
      "Total word count: 448\n",
      "Total token count: 586\n",
      "Estimated cost: 0.00023440000000000003\n",
      "\n",
      "Creating index took 0.76 seconds\n",
      "Done creating index db for batch: 60\n",
      "\n",
      "Creating index db for batch: 63\n",
      "Loading 3 documents...\n",
      "Total word count: 465\n",
      "Total token count: 625\n",
      "Estimated cost: 0.00025\n",
      "\n",
      "Creating index took 0.69 seconds\n",
      "Done creating index db for batch: 63\n",
      "\n",
      "Creating index db for batch: 66\n",
      "Loading 1 documents...\n",
      "Total word count: 103\n",
      "Total token count: 141\n",
      "Estimated cost: 5.640000000000001e-05\n",
      "\n",
      "Creating index took 0.36 seconds\n",
      "Done creating index db for batch: 66\n",
      "\n",
      "Loading help index db for batch: 0\n",
      "Loading help index db for batch: 3\n",
      "Loading help index db for batch: 6\n",
      "Loading help index db for batch: 9\n",
      "Loading help index db for batch: 12\n",
      "Loading help index db for batch: 15\n",
      "Loading help index db for batch: 18\n",
      "Loading help index db for batch: 21\n",
      "Loading help index db for batch: 24\n",
      "Loading help index db for batch: 27\n",
      "Loading help index db for batch: 30\n",
      "Loading help index db for batch: 33\n",
      "Loading help index db for batch: 36\n",
      "Loading help index db for batch: 39\n",
      "Loading help index db for batch: 42\n",
      "Loading help index db for batch: 45\n",
      "Loading help index db for batch: 48\n",
      "Loading help index db for batch: 51\n",
      "Loading help index db for batch: 54\n",
      "Loading help index db for batch: 57\n",
      "Loading help index db for batch: 60\n",
      "Loading help index db for batch: 63\n",
      "Loading help index db for batch: 66\n"
     ]
    }
   ],
   "source": [
    "# load main site\n",
    "# load_and_index_site('./website/zorin.com', 'main', batch_size=5)\n",
    "\n",
    "# load the blog site\n",
    "# load_and_index_site('./website/blog.zorin.com', 'blog', batch_size=3)\n",
    "\n",
    "# load the help site\n",
    "load_and_index_site('./website/help.zorin.com', 'help', batch_size=3)"
   ],
   "metadata": {
    "collapsed": false,
    "ExecuteTime": {
     "end_time": "2023-06-06T06:26:40.685897405Z",
     "start_time": "2023-06-06T06:26:20.317098860Z"
    }
   }
  },
  {
   "cell_type": "code",
   "execution_count": 43,
   "outputs": [],
   "source": [
    "# merge the main, blog, and help indexes\n",
    "from langchain.vectorstores import FAISS\n",
    "from langchain.embeddings.openai import OpenAIEmbeddings\n",
    "embeddings = OpenAIEmbeddings()\n",
    "\n",
    "db = FAISS.load_local(f'temp_index/main/merged', embeddings)\n",
    "FAISS.merge_from(db, FAISS.load_local(f'temp_index/blog/merged', embeddings))\n",
    "FAISS.merge_from(db, FAISS.load_local(f'temp_index/help/merged', embeddings))\n",
    "\n",
    "db.save_local(f'index')"
   ],
   "metadata": {
    "collapsed": false,
    "ExecuteTime": {
     "end_time": "2023-06-06T06:28:17.321687465Z",
     "start_time": "2023-06-06T06:28:17.275107586Z"
    }
   }
  },
  {
   "cell_type": "code",
   "execution_count": 44,
   "outputs": [],
   "source": [
    "db = FAISS.load_local('index', embeddings)"
   ],
   "metadata": {
    "collapsed": false,
    "ExecuteTime": {
     "end_time": "2023-06-06T06:28:58.320677934Z",
     "start_time": "2023-06-06T06:28:58.311285912Z"
    }
   }
  },
  {
   "cell_type": "code",
   "execution_count": 45,
   "outputs": [],
   "source": [
    "from langchain.memory import ConversationBufferMemory, ConversationSummaryBufferMemory\n",
    "from langchain.chat_models import ChatOpenAI\n",
    "from langchain.chains import RetrievalQA, ConversationalRetrievalChain\n",
    "\n",
    "retriever = db.as_retriever(search_type='similarity', search_kwargs={'k': 4})\n",
    "memory = ConversationBufferMemory(memory_key=\"chat_history\", return_messages=True)\n",
    "\n",
    "qa = ConversationalRetrievalChain.from_llm(llm=ChatOpenAI(temperature=0), retriever=retriever, memory=memory, verbose=False)"
   ],
   "metadata": {
    "collapsed": false,
    "ExecuteTime": {
     "end_time": "2023-06-06T06:29:00.538417634Z",
     "start_time": "2023-06-06T06:29:00.536107299Z"
    }
   }
  },
  {
   "cell_type": "code",
   "execution_count": 46,
   "outputs": [
    {
     "data": {
      "text/plain": "{'question': 'What is Zorin OS? What is it based on?',\n 'chat_history': [HumanMessage(content='What is Zorin OS? What is it based on?', additional_kwargs={}, example=False),\n  AIMessage(content='Zorin OS is a Linux-based operating system that was created to bring advanced technology to everyone. It is based on Ubuntu and comes pre-installed with the updated Linux Kernel 4.2 which brings bug fixes, improved hardware support, and performance improvements.', additional_kwargs={}, example=False)],\n 'answer': 'Zorin OS is a Linux-based operating system that was created to bring advanced technology to everyone. It is based on Ubuntu and comes pre-installed with the updated Linux Kernel 4.2 which brings bug fixes, improved hardware support, and performance improvements.'}"
     },
     "execution_count": 46,
     "metadata": {},
     "output_type": "execute_result"
    }
   ],
   "source": [
    "question = \"What is Zorin OS? What is it based on?\"\n",
    "result = qa({\"question\": question})\n",
    "\n",
    "result"
   ],
   "metadata": {
    "collapsed": false,
    "ExecuteTime": {
     "end_time": "2023-06-06T06:29:07.616141751Z",
     "start_time": "2023-06-06T06:29:02.243848639Z"
    }
   }
  },
  {
   "cell_type": "code",
   "execution_count": null,
   "outputs": [],
   "source": [],
   "metadata": {
    "collapsed": false
   }
  }
 ],
 "metadata": {
  "kernelspec": {
   "display_name": "Python 3",
   "language": "python",
   "name": "python3"
  },
  "language_info": {
   "codemirror_mode": {
    "name": "ipython",
    "version": 2
   },
   "file_extension": ".py",
   "mimetype": "text/x-python",
   "name": "python",
   "nbconvert_exporter": "python",
   "pygments_lexer": "ipython2",
   "version": "2.7.6"
  }
 },
 "nbformat": 4,
 "nbformat_minor": 0
}
