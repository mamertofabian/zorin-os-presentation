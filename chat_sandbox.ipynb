{
 "cells": [
  {
   "cell_type": "code",
   "execution_count": 63,
   "outputs": [],
   "source": [
    "from langchain.prompts import ChatPromptTemplate, SystemMessagePromptTemplate, HumanMessagePromptTemplate\n",
    "from langchain.chat_models import ChatOpenAI\n",
    "from langchain.chains import RetrievalQAWithSourcesChain\n",
    "from main import init_env_vars\n",
    "from langchain import FAISS\n",
    "from langchain.embeddings import OpenAIEmbeddings\n",
    "\n",
    "init_env_vars()\n",
    "\n",
    "# db = FAISS.load_local('index', OpenAIEmbeddings())\n",
    "db = FAISS.load_local('temp_index/main/merged', OpenAIEmbeddings())\n",
    "FAISS.merge_from(db, FAISS.load_local('temp_index/help/merged', OpenAIEmbeddings()))\n",
    "retriever = db.as_retriever(search_type='similarity', search_kwargs={'k': 4})\n",
    "\n",
    "\n",
    "def ask_bot(question, ai_instruction):\n",
    "    system_template = ai_instruction + \"\\n\\n{summaries}\"\n",
    "    messages = [\n",
    "        SystemMessagePromptTemplate.from_template(system_template),\n",
    "        HumanMessagePromptTemplate.from_template(\"{question}\"),\n",
    "    ]\n",
    "    chain_type_kwargs = {\"prompt\": ChatPromptTemplate.from_messages(messages)}\n",
    "    qa = RetrievalQAWithSourcesChain.from_chain_type(\n",
    "        llm=ChatOpenAI(temperature=0),\n",
    "        chain_type=\"stuff\",\n",
    "        retriever=retriever,\n",
    "        return_source_documents=True,\n",
    "        chain_type_kwargs=chain_type_kwargs)\n",
    "    result = qa({\"question\": question})\n",
    "    return result"
   ],
   "metadata": {
    "collapsed": false,
    "ExecuteTime": {
     "end_time": "2023-06-06T09:00:04.597277619Z",
     "start_time": "2023-06-06T09:00:04.583564262Z"
    }
   }
  },
  {
   "cell_type": "code",
   "execution_count": 64,
   "outputs": [],
   "source": [
    "def get_sources(result):\n",
    "    source_urls = []\n",
    "    for document in result['source_documents']:\n",
    "        url = document.metadata['source'].replace(\"website/\", \"https://\")\n",
    "        if url not in source_urls:\n",
    "            source_urls.append(url)\n",
    "\n",
    "    return source_urls"
   ],
   "metadata": {
    "collapsed": false,
    "ExecuteTime": {
     "end_time": "2023-06-06T09:00:05.559691011Z",
     "start_time": "2023-06-06T09:00:05.548147075Z"
    }
   }
  },
  {
   "cell_type": "code",
   "execution_count": 72,
   "outputs": [
    {
     "name": "stdout",
     "output_type": "stream",
     "text": [
      "Zorin OS handles system upgrades through its built-in Software Updater tool. This tool checks for updates to the operating system and installed software packages, and allows users to easily download and install them with just a few clicks. Zorin OS also provides long-term support (LTS) releases, which receive security and stability updates for up to 5 years, ensuring that users can continue to use their system with confidence. Additionally, Zorin OS offers an easy direct upgrade method from Zorin OS Core to Pro, allowing users to upgrade while keeping their files, apps, and settings.\n",
      "['https://zorin.com/os/pro.html', 'https://zorin.com/os/pro/index.html', 'https://help.zorin.com/index.html', 'https://zorin.com/os.html']\n"
     ]
    }
   ],
   "source": [
    "ai_instruction = \"Give your answer in a bullet point format to be used for slide presentations\"\n",
    "# ai_instruction = \"\"\n",
    "question = \"How Zorin OS handle system upgrades?\"\n",
    "\n",
    "response = ask_bot(question, ai_instruction)\n",
    "\n",
    "print(response['answer'])\n",
    "print(get_sources(response))"
   ],
   "metadata": {
    "collapsed": false,
    "ExecuteTime": {
     "end_time": "2023-06-06T09:56:44.495187845Z",
     "start_time": "2023-06-06T09:56:31.491008811Z"
    }
   }
  },
  {
   "cell_type": "markdown",
   "source": [
    "Here are some image links that you can use in your presentation:\n",
    "\n",
    "1. Zorin OS Education homepage: https://zorin.com/os/education/\n",
    "2. Zorin OS Education screenshot: https://zorin.com/wp-content/uploads/2021/08/zorin-os-education-screenshot.png\n",
    "3. Zorin OS Education Lite screenshot: https://zorin.com/wp-content/uploads/2021/08/zorin-os-education-lite-screenshot.png\n",
    "4. Zorin OS Education apps: https://zorin.com/wp-content/uploads/2021/08/zorin-os-education-apps.png\n",
    "5. Zorin OS Education classroom control: https://zorin.com/wp-content/uploads/2021/08/zorin-os-education-classroom-control.png\n",
    "6. Zorin OS Education Veyon management console: https://zorin.com/wp-content/uploads/2021/08/zorin-os-education-veyon-management-console.png\n",
    "7. Zorin OS Education Lite on an old computer: https://zorin.com/wp-content/uploads/2021/08/zorin-os-education-lite-old-computer.png\n",
    "8. Zorin OS Education logo: https://zorin.com/wp-content/uploads/2021/08/zorin-os-education-logo.png\n",
    "\n",
    "Make sure to check the usage rights of each image before using them in your presentation.\n",
    "['https://zorin.com/os/education/index.html', 'https://zorin.com/about.html', 'https://zorin.com/about/index.html']\n"
   ],
   "metadata": {
    "collapsed": false
   }
  }
 ],
 "metadata": {
  "kernelspec": {
   "display_name": "Python 3",
   "language": "python",
   "name": "python3"
  },
  "language_info": {
   "codemirror_mode": {
    "name": "ipython",
    "version": 2
   },
   "file_extension": ".py",
   "mimetype": "text/x-python",
   "name": "python",
   "nbconvert_exporter": "python",
   "pygments_lexer": "ipython2",
   "version": "2.7.6"
  }
 },
 "nbformat": 4,
 "nbformat_minor": 0
}
